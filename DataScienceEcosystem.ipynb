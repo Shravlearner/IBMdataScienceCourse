{
 "cells": [
  {
   "cell_type": "markdown",
   "id": "b0699f59-ff4b-40e5-937e-a0c91fc6acfe",
   "metadata": {},
   "source": [
    "# Data Science Tools and Ecosystem"
   ]
  },
  {
   "cell_type": "markdown",
   "id": "29ec0a9d-a79f-495c-a4a1-dd7a02b7d09c",
   "metadata": {},
   "source": [
    "In this notebook, Data Science Tools and Ecosystem are summarized."
   ]
  },
  {
   "cell_type": "markdown",
   "id": "701d0aec-a511-40dd-8ddb-ae434ed2e070",
   "metadata": {
    "tags": []
   },
   "source": [
    "**Objectives**\n",
    "+ List popular languages for Data Science\n",
    "+ Get familiar with the basic functionalisties of Version Control Systems (GitHub)\n",
    "+ Identify various commercially used tools in Data Science"
   ]
  },
  {
   "cell_type": "markdown",
   "id": "52eb2203-def1-492d-957a-7e52e833dab0",
   "metadata": {},
   "source": [
    "Some of the popular languages that Data Scientists use are:\n",
    "1. Python\n",
    "2. R\n",
    "3. SQL\n"
   ]
  },
  {
   "cell_type": "markdown",
   "id": "34b5205f-2bab-4bdb-9b97-1e8a8bfc201a",
   "metadata": {},
   "source": [
    "Some of the commonly used libraries used by Data Scientists include:\n",
    "1. Matplotlib\n",
    "2. Scipy\n",
    "3. Numpy"
   ]
  },
  {
   "cell_type": "markdown",
   "id": "140bfce5-2edf-4953-8915-f25f2228690a",
   "metadata": {},
   "source": [
    "| Data Science Tools |\n",
    "|-------------------- |\n",
    "| Visual Studios |\n",
    "| RStudio |\n",
    "| JupyterLab |\n"
   ]
  },
  {
   "cell_type": "markdown",
   "id": "2cd57051-c882-4f76-b173-32f6a921d11b",
   "metadata": {},
   "source": [
    "### Below are a few examples of evaluating arithmetic expressions in Python"
   ]
  },
  {
   "cell_type": "code",
   "execution_count": 1,
   "id": "49b3a7b0-657f-4623-a90d-41d027e5e8ab",
   "metadata": {
    "tags": []
   },
   "outputs": [
    {
     "data": {
      "text/plain": [
       "17"
      ]
     },
     "execution_count": 1,
     "metadata": {},
     "output_type": "execute_result"
    }
   ],
   "source": [
    "# This a simple arithmetic expression to mutiply then add integers.\n",
    "(3*4)+5"
   ]
  },
  {
   "cell_type": "code",
   "execution_count": 3,
   "id": "dd3d41fd-6246-4e36-ba64-11a941ad34bd",
   "metadata": {
    "tags": []
   },
   "outputs": [
    {
     "name": "stdout",
     "output_type": "stream",
     "text": [
      "200 minutes equals 3.3333333333333335 hours\n"
     ]
    }
   ],
   "source": [
    "#This will convert 200 minutes to hours by diving by 60.\n",
    "\n",
    "print(f\"200 minutes equals {200/60} hours\")"
   ]
  },
  {
   "cell_type": "markdown",
   "id": "979c67e4-0dba-4be2-ba06-b8f1c7506ab5",
   "metadata": {},
   "source": [
    "## Author\n",
    "Shravani Raut"
   ]
  },
  {
   "cell_type": "code",
   "execution_count": null,
   "id": "06b3087f-ef7b-4633-a494-fead550e897a",
   "metadata": {},
   "outputs": [],
   "source": []
  }
 ],
 "metadata": {
  "kernelspec": {
   "display_name": "\"Python/Mu (mu_venv-38-20240706-133004)\"",
   "language": "python",
   "name": "mu_venv-38-20240706-133004"
  },
  "language_info": {
   "codemirror_mode": {
    "name": "ipython",
    "version": 3
   },
   "file_extension": ".py",
   "mimetype": "text/x-python",
   "name": "python",
   "nbconvert_exporter": "python",
   "pygments_lexer": "ipython3",
   "version": "3.8.12"
  }
 },
 "nbformat": 4,
 "nbformat_minor": 5
}
